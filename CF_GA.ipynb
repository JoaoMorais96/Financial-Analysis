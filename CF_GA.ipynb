{
 "cells": [
  {
   "cell_type": "markdown",
   "metadata": {},
   "source": [
    "Group: \n",
    "- João Morais\n",
    "- Vitor Santos\n",
    "- Madalena Martins\n"
   ]
  },
  {
   "cell_type": "markdown",
   "metadata": {},
   "source": [
    "# GA1"
   ]
  },
  {
   "cell_type": "code",
   "execution_count": 101,
   "metadata": {},
   "outputs": [],
   "source": [
    "import numpy as np\n",
    "from scipy import optimize\n",
    "import matplotlib.pyplot as plt"
   ]
  },
  {
   "cell_type": "code",
   "execution_count": 102,
   "metadata": {},
   "outputs": [],
   "source": [
    "class YieldCurve:\n",
    "    # a) Build a class called YieldCurve that will receive an array with information on maturity, \n",
    "    # price and coupon for n self.info (n x 3)\n",
    "    def __init__(self, info):\n",
    "        self.info = info\n",
    "        self.maturity = info[:,0]\n",
    "        self.price = info[:,1]\n",
    "        self.coupon = info[:,2]\n",
    "\n",
    "   #Function to get cashflows\n",
    "    def get_cashflows(self):\n",
    "        # Create the array that will hold the cashflows\n",
    "        cf = np.zeros([len(self.info),len(self.info)])\n",
    "        \n",
    "        # Iterate through the bond info provided\n",
    "        for index, bond in enumerate(self.info):\n",
    "\n",
    "            maturity = bond[0]# get bond maturity\n",
    "\n",
    "            # For every year until the coupon maturity\n",
    "            for year in range(0,int(maturity)): \n",
    "\n",
    "                # if it is the maturity date\n",
    "                if year == maturity-1:\n",
    "                    cf[index, year] = 100+bond[2]\n",
    "                else: # otherwise\n",
    "                    cf[index, year] = bond[2]\n",
    "        return cf\n",
    "\n",
    "    # b) Add a method that will bootstrap the discount factors using matrix operations\n",
    "    def get_df_with_matrix(self):\n",
    "\n",
    "        # Get cashflows\n",
    "        cf = self.get_cashflows()\n",
    "\n",
    "        # Get discount factors by multiplying the inverse of the cashflows matrix by the bond prices\n",
    "        dfs = np.linalg.inv(cf) @ self.price\n",
    "\n",
    "        return dfs\n",
    "\n",
    "    # C)\n",
    "    def get_df_with_GS(self):\n",
    "        \n",
    "        #Create an array that will hold the calculated spot rates\n",
    "        zeros = np.zeros((len(self.info)))\n",
    "\n",
    "        #For each bon in the information provided\n",
    "        for bond in self.info:\n",
    "\n",
    "            maturity, price, coupon = bond # get the bond's maturity, price and coupon\n",
    "            coupon /= 100 # get the correct coupon format\n",
    "            maturity = int(maturity) \n",
    "\n",
    "            # Get cashflow\n",
    "            known_cf = sum([coupon/(1+zeros[n])**(n+1) for n in range(maturity -1)]) * 100\n",
    "            \n",
    "            # Apply a global solver that will calculate the spot rates\n",
    "            f = lambda z : known_cf + ((1 + coupon) * 100)/(1+z)**maturity - price\n",
    "            zero = optimize.newton(f, 0)\n",
    "            zeros[int(maturity)-1] = zero\n",
    "        \n",
    "        #Get the discount factors fromt he calculated spot rates\n",
    "        dfs = np.array([1/(1+z)**(n+1) for n,z in enumerate(zeros)])\n",
    "        return dfs\n",
    "    \n",
    "    # D)\n",
    "    def get_df_with_bootstrap(self):\n",
    "\n",
    "        #Get the bonds cashflows\n",
    "        cf = self.get_cashflows()\n",
    "\n",
    "        #Create an array that will hold the calculated dfs\n",
    "        df=np.zeros((len(self.info)))\n",
    "\n",
    "        #Iterate through the bond info\n",
    "        for index, bond in enumerate(self.info):\n",
    "\n",
    "            # establish the info necessary for each iteration\n",
    "            summ = 0\n",
    "            maturity, price, coupon = bond\n",
    "            coupon /= 100\n",
    "            maturity = int(maturity)\n",
    "\n",
    "            # find the first DF\n",
    "            if index ==0:\n",
    "                df[index]=price/cf[0][0]\n",
    "            else:\n",
    "                # until the maturity, multiply the CFs by the corresponding DFs (the ones we already calculted)\n",
    "                # and sum it up \n",
    "                for i in range(index):\n",
    "                    summ = summ + cf[index][i]*df[i]\n",
    "                # re-arrange the PV equation to find the missing DF, calculate it and add it to the\n",
    "                # DF array\n",
    "                df[index]=(price-summ)/cf[index][index]\n",
    "\n",
    "        return df\n"
   ]
  },
  {
   "cell_type": "markdown",
   "metadata": {},
   "source": [
    "### a) Build a class called YieldCurve that will receive an array with information on maturity, price and coupon for n bonds (n x 3)"
   ]
  },
  {
   "cell_type": "code",
   "execution_count": 103,
   "metadata": {},
   "outputs": [],
   "source": [
    "bonds = np.array([[1, 96.6, 1.5], \n",
    "                        [2, 93.71, 1.75],\n",
    "                        [3, 91.56, 2],\n",
    "                        [4, 90.24, 2.25],\n",
    "                        [5, 89.74, 2.5],\n",
    "                        [6, 90.04, 2.75], \n",
    "                        [7, 91.09, 3],\n",
    "                        [8, 92.82, 3.25],\n",
    "                        [9, 95.19, 3.50],\n",
    "                        [10, 98.14, 3.75]])\n",
    "yc = YieldCurve(bonds)"
   ]
  },
  {
   "cell_type": "markdown",
   "metadata": {},
   "source": [
    "### b) Add a method that will bootstrap the discount factors using matrix operations"
   ]
  },
  {
   "cell_type": "code",
   "execution_count": 104,
   "metadata": {},
   "outputs": [
    {
     "data": {
      "text/plain": [
       "array([0.95172414, 0.90461408, 0.86124827, 0.8227426 , 0.78916271,\n",
       "       0.76042723, 0.73611886, 0.71559687, 0.69849544, 0.68423626])"
      ]
     },
     "execution_count": 104,
     "metadata": {},
     "output_type": "execute_result"
    }
   ],
   "source": [
    "yc.get_df_with_matrix()"
   ]
  },
  {
   "cell_type": "markdown",
   "metadata": {},
   "source": [
    "### c) Add a method that will bootstrap the discount factors using a global solver"
   ]
  },
  {
   "cell_type": "code",
   "execution_count": 105,
   "metadata": {},
   "outputs": [
    {
     "data": {
      "text/plain": [
       "array([0.95172414, 0.90461408, 0.86124827, 0.8227426 , 0.78916271,\n",
       "       0.76042723, 0.73611886, 0.71559687, 0.69849544, 0.68423626])"
      ]
     },
     "execution_count": 105,
     "metadata": {},
     "output_type": "execute_result"
    }
   ],
   "source": [
    "yc.get_df_with_GS()"
   ]
  },
  {
   "cell_type": "markdown",
   "metadata": {},
   "source": [
    "### d) Add a method that will bootstrap the discount factors using an iterative procedure"
   ]
  },
  {
   "cell_type": "code",
   "execution_count": 106,
   "metadata": {},
   "outputs": [
    {
     "data": {
      "text/plain": [
       "array([0.95172414, 0.90461408, 0.86124827, 0.8227426 , 0.78916271,\n",
       "       0.76042723, 0.73611886, 0.71559687, 0.69849544, 0.68423626])"
      ]
     },
     "execution_count": 106,
     "metadata": {},
     "output_type": "execute_result"
    }
   ],
   "source": [
    "dfs = yc.get_df_with_bootstrap()\n",
    "dfs"
   ]
  },
  {
   "cell_type": "markdown",
   "metadata": {},
   "source": [
    "### e) Determine the spot rate (annual compounding) for each maturity from the calculated discount factors and plot them "
   ]
  },
  {
   "cell_type": "code",
   "execution_count": 107,
   "metadata": {},
   "outputs": [
    {
     "data": {
      "text/plain": [
       "[0.050724637681159424,\n",
       " 0.051400860610055776,\n",
       " 0.051051216278840794,\n",
       " 0.0499871990315186,\n",
       " 0.048495786203275326,\n",
       " 0.046703613833167346,\n",
       " 0.04473810744647344,\n",
       " 0.042716980245643965,\n",
       " 0.040675087218742245,\n",
       " 0.03867431347507222]"
      ]
     },
     "execution_count": 107,
     "metadata": {},
     "output_type": "execute_result"
    }
   ],
   "source": [
    "# Ryear: this are the rates for each year\n",
    "# Price = C/(1+R1)^1 + C/(1+R2)^2 + ... + (FV+C)/(1+Rn)^maturity\n",
    "\n",
    "#Calculate the spot rates using the previously calculated discount factors\n",
    "spot_rate = [pow(1/d, 1/(m+1))-1 for m,d in enumerate(dfs)]\n",
    "spot_rate"
   ]
  },
  {
   "cell_type": "code",
   "execution_count": 108,
   "metadata": {},
   "outputs": [],
   "source": [
    "#Asset if the spot rates were correctly calculated by verifying if:\n",
    "                #[CF]*[DFS]==PV\n",
    "cfs = yc.get_cashflows()\n",
    "np.testing.assert_allclose((cfs @ dfs) ,yc.price,rtol=1e-8, atol=0)"
   ]
  },
  {
   "cell_type": "code",
   "execution_count": 109,
   "metadata": {},
   "outputs": [
    {
     "data": {
      "image/png": "[encoded data removed]",
      "text/plain": [
       "<Figure size 504x288 with 1 Axes>"
      ]
     },
     "metadata": {
      "needs_background": "light"
     },
     "output_type": "display_data"
    }
   ],
   "source": [
    "# Plot them\n",
    "x = np.linspace(0, cfs.shape[1], cfs.shape[1], endpoint = False)\n",
    "plt.figure(figsize=(7, 4))\n",
    "plt.plot(x, spot_rate)\n",
    "plt.plot(x, spot_rate, 'o')\n",
    "\n",
    "#Establish figure characteristics \n",
    "plt.xlabel('Maturity')\n",
    "plt.ylabel('Interest Rate')\n",
    "plt.title('Yield Curve')\n",
    "plt.show()"
   ]
  },
  {
   "cell_type": "markdown",
   "metadata": {},
   "source": [
    "### f) Determine the YTM for each bond and plot them"
   ]
  },
  {
   "cell_type": "code",
   "execution_count": 110,
   "metadata": {},
   "outputs": [
    {
     "data": {
      "text/plain": [
       "array([0.05072464, 0.0513948 , 0.05105361, 0.05002602, 0.04860682,\n",
       "       0.04693075, 0.04512745, 0.04331056, 0.04151381, 0.03979082])"
      ]
     },
     "execution_count": 110,
     "metadata": {},
     "output_type": "execute_result"
    }
   ],
   "source": [
    "# YTM: this is like a weigthed average of the previous spot rates. So the price of the bond is the same if\n",
    "# we calculate it with the different spot rates of each year or with only the YTM for every year\n",
    "# Price = C/(1+R1)^1 + C/(1+R2)^2 + ... + (FV+C)/(1+Rn)^maturity \n",
    "#       = C/(1+YTM)^1 + C/(1+YTM)^2 + ... + (FV+C)/(1+YTM)^maturity\n",
    "#  This has to be done using a solver or optimization to find the value of YTM corresponding to each price\n",
    "import scipy.optimize as optimize\n",
    "import matplotlib.pyplot as plt\n",
    "\n",
    "#Create array to \n",
    "ytms = np.zeros(len(yc.info))\n",
    "\n",
    "#Iterate through each bond in the info provided\n",
    "for idx, bond in enumerate(yc.info):\n",
    "\n",
    "    # set the variables necessary\n",
    "    maturity, price, coupon = bond\n",
    "    coupon /= 100\n",
    "    maturity = int(maturity)\n",
    "\n",
    "    # find the YTM that satisfies each bond's information\n",
    "    ytm_func = lambda y : sum([(coupon if n < int(maturity) else coupon + 1)/(1+y)**n\n",
    "                               for n in range(1, int(maturity) +1)]) * 100 - price\n",
    "    ytms[idx] =(optimize.newton(ytm_func, 0))\n",
    "    \n",
    "ytms\n"
   ]
  },
  {
   "cell_type": "code",
   "execution_count": 111,
   "metadata": {},
   "outputs": [
    {
     "data": {
      "image/png": "[encoded data removed]",
      "text/plain": [
       "<Figure size 504x288 with 1 Axes>"
      ]
     },
     "metadata": {
      "needs_background": "light"
     },
     "output_type": "display_data"
    }
   ],
   "source": [
    "# Plot \n",
    "plt.figure(figsize=(7, 4))\n",
    "plt.plot(x, ytms)\n",
    "plt.plot(x, ytms, 'o')\n",
    "\n",
    "#Establish figure characteristics \n",
    "plt.xlabel('Maturity')\n",
    "plt.ylabel('Interest Rate')\n",
    "plt.title('YTM Curve')\n",
    "plt.show()"
   ]
  },
  {
   "cell_type": "markdown",
   "metadata": {},
   "source": [
    "### g) Determine the 1y forward rate starting in each of the years from 1 to 9 and plot them"
   ]
  },
  {
   "cell_type": "code",
   "execution_count": 112,
   "metadata": {},
   "outputs": [
    {
     "data": {
      "text/plain": [
       "array([0.05072464, 0.05140086, 0.05070169, 0.04786239, 0.04403425,\n",
       "       0.03956551, 0.0349658 , 0.03067206, 0.02649336, 0.02280598])"
      ]
     },
     "execution_count": 112,
     "metadata": {},
     "output_type": "execute_result"
    }
   ],
   "source": [
    "#Array to keep forward rates\n",
    "f = np.zeros(len(yc.info))\n",
    "\n",
    "#Iterate through each bond in the info provided\n",
    "for index, bond in enumerate(yc.info):\n",
    "\n",
    "    if index == 0: # if it is the 1 year bond starting at year zero...\n",
    "        f[index] = spot_rate[index] # ...the forward rate is equal to the spot rate\n",
    "    else:\n",
    "        # else we just apply the forward rate formula\n",
    "        f[index]=( (1+ spot_rate[index])**index / (1+spot_rate[index-1])**(index-1) ) - 1\n",
    "f"
   ]
  },
  {
   "cell_type": "code",
   "execution_count": 113,
   "metadata": {},
   "outputs": [
    {
     "data": {
      "image/png": "[encoded data removed]",
      "text/plain": [
       "<Figure size 504x288 with 1 Axes>"
      ]
     },
     "metadata": {
      "needs_background": "light"
     },
     "output_type": "display_data"
    }
   ],
   "source": [
    "# Plot \n",
    "plt.figure(figsize=(7, 4))\n",
    "plt.plot(x, f)\n",
    "plt.plot(x, f, 'o')\n",
    "\n",
    "#Establish figure characteristics \n",
    "plt.xlabel('Maturity')\n",
    "plt.ylabel('Interest Rate')\n",
    "plt.title('1Y Forward Rates Curve')\n",
    "plt.show()"
   ]
  },
  {
   "cell_type": "markdown",
   "metadata": {},
   "source": [
    "# GA2"
   ]
  },
  {
   "cell_type": "code",
   "execution_count": 114,
   "metadata": {},
   "outputs": [],
   "source": [
    "import yfinance as yf\n",
    "import pandas as pd\n",
    "import matplotlib.pyplot as plt\n",
    "import seaborn as sn\n",
    "from datetime import date"
   ]
  },
  {
   "cell_type": "markdown",
   "metadata": {},
   "source": [
    "### a) Get historical data (close price and volume) for 5 stocks of your choice using any API of your choice from 2012 to the present time"
   ]
  },
  {
   "cell_type": "code",
   "execution_count": 115,
   "metadata": {},
   "outputs": [],
   "source": [
    "#define the ticker symbol\n",
    "tickers = ['GOOG','MNST','MSFT','V','F']\n",
    "\n",
    "tickerDict = {}\n",
    "for ticker in tickers:\n",
    "    #get data on this ticker\n",
    "    df = pd.DataFrame(yf.Ticker(ticker).history(period='1d', start='2012-01-01', end=date.today()))\n",
    "\n",
    "    #adds the key(ticker)->value(ticker volume and close data) to the tickerDict\n",
    "    tickerDict[ticker] = df[['Volume','Close']]"
   ]
  },
  {
   "cell_type": "markdown",
   "metadata": {},
   "source": [
    "### b) Plot the cumulative returns of the stocks on a single chart"
   ]
  },
  {
   "cell_type": "code",
   "execution_count": 116,
   "metadata": {},
   "outputs": [
    {
     "data": {
      "image/png": "[encoded data removed]",
      "text/plain": [
       "<Figure size 432x288 with 1 Axes>"
      ]
     },
     "metadata": {
      "needs_background": "light"
     },
     "output_type": "display_data"
    }
   ],
   "source": [
    "# For each key(ticker)...\n",
    "for (key,value) in tickerDict.items():\n",
    "    # ... get the 'Close' values cumulative gains\n",
    "    plt.plot(((1+value['Close'].pct_change()).cumprod() -1 ) *100)\n",
    "\n",
    "plt.legend(tickerDict.keys())  \n",
    "plt.xlabel('Years')\n",
    "plt.ylabel('Cumulative Daily Close Gains')  \n",
    "plt.show()"
   ]
  },
  {
   "cell_type": "markdown",
   "metadata": {},
   "source": [
    "### c) Create the correlation matrix of the daily returns"
   ]
  },
  {
   "cell_type": "code",
   "execution_count": 117,
   "metadata": {},
   "outputs": [
    {
     "data": {
      "image/png": "[encoded data removed]",
      "text/plain": [
       "<Figure size 432x288 with 2 Axes>"
      ]
     },
     "metadata": {
      "needs_background": "light"
     },
     "output_type": "display_data"
    }
   ],
   "source": [
    "corr_matrix = pd.DataFrame(columns = tickerDict.keys())\n",
    "\n",
    "for (key,value) in tickerDict.items():\n",
    "    # ... get the 'Close' values cumulative gains and add them to the corr_matrix DataFrame\n",
    "    corr_matrix[key]=((1+value['Close'].pct_change()).cumprod() -1 ) *100\n",
    "# Plot the heat map of the correlation\n",
    "sn.heatmap(corr_matrix.corr(), annot=True)\n",
    "plt.show()"
   ]
  },
  {
   "cell_type": "markdown",
   "metadata": {},
   "source": [
    "### d) Save the data (close price and volume) to a CSV file for each ticker"
   ]
  },
  {
   "cell_type": "code",
   "execution_count": 118,
   "metadata": {},
   "outputs": [],
   "source": [
    "header = [\"Close\", \"Volume\"]\n",
    "for (key,value) in tickerDict.items():\n",
    "    value.to_csv(key+'.csv', columns = header)"
   ]
  },
  {
   "cell_type": "markdown",
   "metadata": {},
   "source": [
    "### e) Load the data from the CSV files you saved into a single DataFrame with the prices for each ticker"
   ]
  },
  {
   "cell_type": "code",
   "execution_count": 119,
   "metadata": {},
   "outputs": [
    {
     "name": "stdout",
     "output_type": "stream",
     "text": [
      "Ticker              F        GOOG       MNST        MSFT           V\n",
      "Date                                                                \n",
      "2012-01-03   7.345916   16.573130  15.416667   21.527195   23.878485\n",
      "2012-01-04   7.458116   16.644611  15.431667   22.033813   23.451881\n",
      "2012-01-05   7.649520   16.413727  15.643333   22.258976   23.628086\n",
      "2012-01-06   7.728723   16.189817  15.896667   22.604767   23.349861\n",
      "2012-01-09   7.788123   15.503389  15.986667   22.307234   23.162064\n",
      "...               ...         ...        ...         ...         ...\n",
      "2022-10-25  12.830000  104.930000  91.660004  250.660004  194.380005\n",
      "2022-10-26  12.820000   94.820000  92.010002  231.320007  203.330002\n",
      "2022-10-27  13.000000   92.599998  91.730003  226.750000  204.289993\n",
      "2022-10-28  13.260000   96.580002  93.540001  235.869995  209.339996\n",
      "2022-10-31  13.370000   94.660004  93.720001  232.130005  207.160004\n",
      "\n",
      "[2726 rows x 5 columns]\n"
     ]
    }
   ],
   "source": [
    "#List to save the different company dataframe\n",
    "li = []\n",
    "\n",
    "#Loop through the company anems\n",
    "for key in tickerDict.keys():\n",
    "\n",
    "    df = pd.read_csv(key+'.csv',  header=0) # for each company, open the csv file and read the info\n",
    "    df['Ticker']=key # add a company name to the column with the values\n",
    "    li.append(df[['Date','Close','Ticker']]) #save the dataframe in the list\n",
    "\n",
    "#Concat all the previously saved dfs\n",
    "frame = pd.concat(li, axis=0, ignore_index=True)\n",
    "\n",
    "#Organize the dataframe to the wanted shape\n",
    "frame = frame.pivot(index ='Date', columns = 'Ticker', values = 'Close')\n",
    "print(frame)"
   ]
  }
 ],
 "metadata": {
  "kernelspec": {
   "display_name": "Python 3.10.5 64-bit",
   "language": "python",
   "name": "python3"
  },
  "language_info": {
   "codemirror_mode": {
    "name": "ipython",
    "version": 3
   },
   "file_extension": ".py",
   "mimetype": "text/x-python",
   "name": "python",
   "nbconvert_exporter": "python",
   "pygments_lexer": "ipython3",
   "version": "3.10.5"
  },
  "orig_nbformat": 4,
  "vscode": {
   "interpreter": {
    "hash": "369f2c481f4da34e4445cda3fffd2e751bd1c4d706f27375911949ba6bb62e1c"
   }
  }
 },
 "nbformat": 4,
 "nbformat_minor": 2
}
